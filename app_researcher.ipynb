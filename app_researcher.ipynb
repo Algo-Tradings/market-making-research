{
 "cells": [
  {
   "attachments": {},
   "cell_type": "markdown",
   "metadata": {},
   "source": [
    "<h1>MARKET MAKING RESEARCH</h1>"
   ]
  },
  {
   "attachments": {},
   "cell_type": "markdown",
   "metadata": {},
   "source": [
    "<h3>1. Run Once </h3> \n",
    "install necessary packages.\n",
    "After that, you need comment the above part of code"
   ]
  },
  {
   "cell_type": "code",
   "execution_count": 1,
   "metadata": {
    "ExecuteTime": {
     "end_time": "2023-10-24T20:28:48.652420Z",
     "start_time": "2023-10-24T20:28:48.619158600Z"
    }
   },
   "outputs": [],
   "source": [
    "# import sys\n",
    "# !{sys.executable} -m pip install -r ./ requirements.txt"
   ]
  },
  {
   "attachments": {},
   "cell_type": "markdown",
   "metadata": {},
   "source": [
    "<h3>2. Imports </h3>\n",
    "get classes of this system"
   ]
  },
  {
   "cell_type": "code",
   "execution_count": 2,
   "metadata": {
    "ExecuteTime": {
     "end_time": "2023-10-24T20:28:49.492066100Z",
     "start_time": "2023-10-24T20:28:48.632442600Z"
    }
   },
   "outputs": [],
   "source": [
    "from research.connection import Connection\n",
    "from research.prices import Prices\n",
    "from research.ops import Operations"
   ]
  },
  {
   "cell_type": "markdown",
   "source": [
    "<h3>3. Exchanges list</h3>\n",
    "Show all available exchanges."
   ],
   "metadata": {
    "collapsed": false
   }
  },
  {
   "cell_type": "code",
   "execution_count": 3,
   "outputs": [
    {
     "data": {
      "text/plain": "  Exchange\n0  BitMart",
      "text/html": "<div>\n<style scoped>\n    .dataframe tbody tr th:only-of-type {\n        vertical-align: middle;\n    }\n\n    .dataframe tbody tr th {\n        vertical-align: top;\n    }\n\n    .dataframe thead th {\n        text-align: right;\n    }\n</style>\n<table border=\"1\" class=\"dataframe\">\n  <thead>\n    <tr style=\"text-align: right;\">\n      <th></th>\n      <th>Exchange</th>\n    </tr>\n  </thead>\n  <tbody>\n    <tr>\n      <th>0</th>\n      <td>BitMart</td>\n    </tr>\n  </tbody>\n</table>\n</div>"
     },
     "execution_count": 3,
     "metadata": {},
     "output_type": "execute_result"
    }
   ],
   "source": [
    "is_async_mode = True # Not compatible with some exchanges\n",
    "\n",
    "conn = Connection(is_async_mode=is_async_mode)\n",
    "\n",
    "# conn.add_exchanges(type=['spot'], blacklist=blacklist, whitelist=whitelist)\n",
    "conn.add_exchanges(type=['spot'], whitelist=['bitmart'])\n",
    "\n",
    "conn.dataframe"
   ],
   "metadata": {
    "collapsed": false,
    "ExecuteTime": {
     "end_time": "2023-10-24T20:28:49.534713900Z",
     "start_time": "2023-10-24T20:28:49.493066600Z"
    }
   }
  },
  {
   "attachments": {},
   "cell_type": "markdown",
   "metadata": {},
   "source": [
    "<h3>4. Loading Markets </h3>\n",
    "Loads the markets for all exchanges"
   ]
  },
  {
   "cell_type": "code",
   "execution_count": 4,
   "outputs": [
    {
     "name": "stdout",
     "output_type": "stream",
     "text": [
      "Loading all markets...\n",
      "Done loading markets for BitMart\n",
      "Done loading all markets...\n"
     ]
    }
   ],
   "source": [
    "conn.load_markets()\n"
   ],
   "metadata": {
    "collapsed": false,
    "ExecuteTime": {
     "end_time": "2023-10-24T20:28:55.252420400Z",
     "start_time": "2023-10-24T20:28:49.523192100Z"
    }
   }
  },
  {
   "attachments": {},
   "cell_type": "markdown",
   "metadata": {},
   "source": [
    "<h3>5. Loading Bid and Ask Prices</h3>\n",
    "From All Select Currencies"
   ]
  },
  {
   "cell_type": "code",
   "execution_count": 5,
   "outputs": [
    {
     "name": "stdout",
     "output_type": "stream",
     "text": [
      "Loading prices from all currencies...\n",
      "Done loading prices from BitMart...\n",
      "Done loading prices from all currencies...\n"
     ]
    },
    {
     "data": {
      "text/plain": "                             ask          last           bid   baseVolume24h\nbitmart SOLAR/USDT   0.005829000   0.005829000   0.005758000         2129170\n        VINA/USDT    0.043370000   0.042520000   0.042520000            1808\n        GMFAM/USDT   0.000000003   0.000000003   0.000000003  27683078605354\n        OGN/USDT     0.116400000   0.115900000   0.115600000          136129\n        QNT/USDT    97.700000000  97.420000000  97.380000000             652\n...                          ...           ...           ...             ...\n        ETH/BTC      0.052517000   0.052556000   0.052514000            2810\n        HYPER/USDT   0.000330000   0.000327400   0.000327300       174678668\n        MRHB/USDT    0.001851000   0.001848000   0.001837000        19539548\n        GRV/USDT     0.103000000   0.102800000   0.102400000         6698866\n        WIN/USDT     0.000068650   0.000067210   0.000067340         7200922\n\n[928 rows x 4 columns]",
      "text/html": "<div>\n<style scoped>\n    .dataframe tbody tr th:only-of-type {\n        vertical-align: middle;\n    }\n\n    .dataframe tbody tr th {\n        vertical-align: top;\n    }\n\n    .dataframe thead th {\n        text-align: right;\n    }\n</style>\n<table border=\"1\" class=\"dataframe\">\n  <thead>\n    <tr style=\"text-align: right;\">\n      <th></th>\n      <th></th>\n      <th>ask</th>\n      <th>last</th>\n      <th>bid</th>\n      <th>baseVolume24h</th>\n    </tr>\n  </thead>\n  <tbody>\n    <tr>\n      <th rowspan=\"11\" valign=\"top\">bitmart</th>\n      <th>SOLAR/USDT</th>\n      <td>0.005829000</td>\n      <td>0.005829000</td>\n      <td>0.005758000</td>\n      <td>2129170</td>\n    </tr>\n    <tr>\n      <th>VINA/USDT</th>\n      <td>0.043370000</td>\n      <td>0.042520000</td>\n      <td>0.042520000</td>\n      <td>1808</td>\n    </tr>\n    <tr>\n      <th>GMFAM/USDT</th>\n      <td>0.000000003</td>\n      <td>0.000000003</td>\n      <td>0.000000003</td>\n      <td>27683078605354</td>\n    </tr>\n    <tr>\n      <th>OGN/USDT</th>\n      <td>0.116400000</td>\n      <td>0.115900000</td>\n      <td>0.115600000</td>\n      <td>136129</td>\n    </tr>\n    <tr>\n      <th>QNT/USDT</th>\n      <td>97.700000000</td>\n      <td>97.420000000</td>\n      <td>97.380000000</td>\n      <td>652</td>\n    </tr>\n    <tr>\n      <th>...</th>\n      <td>...</td>\n      <td>...</td>\n      <td>...</td>\n      <td>...</td>\n    </tr>\n    <tr>\n      <th>ETH/BTC</th>\n      <td>0.052517000</td>\n      <td>0.052556000</td>\n      <td>0.052514000</td>\n      <td>2810</td>\n    </tr>\n    <tr>\n      <th>HYPER/USDT</th>\n      <td>0.000330000</td>\n      <td>0.000327400</td>\n      <td>0.000327300</td>\n      <td>174678668</td>\n    </tr>\n    <tr>\n      <th>MRHB/USDT</th>\n      <td>0.001851000</td>\n      <td>0.001848000</td>\n      <td>0.001837000</td>\n      <td>19539548</td>\n    </tr>\n    <tr>\n      <th>GRV/USDT</th>\n      <td>0.103000000</td>\n      <td>0.102800000</td>\n      <td>0.102400000</td>\n      <td>6698866</td>\n    </tr>\n    <tr>\n      <th>WIN/USDT</th>\n      <td>0.000068650</td>\n      <td>0.000067210</td>\n      <td>0.000067340</td>\n      <td>7200922</td>\n    </tr>\n  </tbody>\n</table>\n<p>928 rows × 4 columns</p>\n</div>"
     },
     "execution_count": 5,
     "metadata": {},
     "output_type": "execute_result"
    }
   ],
   "source": [
    "prices = Prices(conn)\n",
    "prices.load_bid_ask_volume()\n",
    "prices.dataframe"
   ],
   "metadata": {
    "collapsed": false,
    "ExecuteTime": {
     "end_time": "2023-10-24T20:28:57.554039Z",
     "start_time": "2023-10-24T20:28:55.251120100Z"
    }
   }
  },
  {
   "attachments": {},
   "cell_type": "markdown",
   "metadata": {},
   "source": [
    "<h3>6. Cleaning the dataframe</h3>\n"
   ]
  },
  {
   "cell_type": "code",
   "execution_count": 6,
   "outputs": [
    {
     "data": {
      "text/plain": "                             ask          last           bid   baseVolume24h\nbitmart SOLAR/USDT   0.005829000   0.005829000   0.005758000         2129170\n        VINA/USDT    0.043370000   0.042520000   0.042520000            1808\n        GMFAM/USDT   0.000000003   0.000000003   0.000000003  27683078605354\n        OGN/USDT     0.116400000   0.115900000   0.115600000          136129\n        QNT/USDT    97.700000000  97.420000000  97.380000000             652\n...                          ...           ...           ...             ...\n        ETH/BTC      0.052517000   0.052556000   0.052514000            2810\n        HYPER/USDT   0.000330000   0.000327400   0.000327300       174678668\n        MRHB/USDT    0.001851000   0.001848000   0.001837000        19539548\n        GRV/USDT     0.103000000   0.102800000   0.102400000         6698866\n        WIN/USDT     0.000068650   0.000067210   0.000067340         7200922\n\n[906 rows x 4 columns]",
      "text/html": "<div>\n<style scoped>\n    .dataframe tbody tr th:only-of-type {\n        vertical-align: middle;\n    }\n\n    .dataframe tbody tr th {\n        vertical-align: top;\n    }\n\n    .dataframe thead th {\n        text-align: right;\n    }\n</style>\n<table border=\"1\" class=\"dataframe\">\n  <thead>\n    <tr style=\"text-align: right;\">\n      <th></th>\n      <th></th>\n      <th>ask</th>\n      <th>last</th>\n      <th>bid</th>\n      <th>baseVolume24h</th>\n    </tr>\n  </thead>\n  <tbody>\n    <tr>\n      <th rowspan=\"11\" valign=\"top\">bitmart</th>\n      <th>SOLAR/USDT</th>\n      <td>0.005829000</td>\n      <td>0.005829000</td>\n      <td>0.005758000</td>\n      <td>2129170</td>\n    </tr>\n    <tr>\n      <th>VINA/USDT</th>\n      <td>0.043370000</td>\n      <td>0.042520000</td>\n      <td>0.042520000</td>\n      <td>1808</td>\n    </tr>\n    <tr>\n      <th>GMFAM/USDT</th>\n      <td>0.000000003</td>\n      <td>0.000000003</td>\n      <td>0.000000003</td>\n      <td>27683078605354</td>\n    </tr>\n    <tr>\n      <th>OGN/USDT</th>\n      <td>0.116400000</td>\n      <td>0.115900000</td>\n      <td>0.115600000</td>\n      <td>136129</td>\n    </tr>\n    <tr>\n      <th>QNT/USDT</th>\n      <td>97.700000000</td>\n      <td>97.420000000</td>\n      <td>97.380000000</td>\n      <td>652</td>\n    </tr>\n    <tr>\n      <th>...</th>\n      <td>...</td>\n      <td>...</td>\n      <td>...</td>\n      <td>...</td>\n    </tr>\n    <tr>\n      <th>ETH/BTC</th>\n      <td>0.052517000</td>\n      <td>0.052556000</td>\n      <td>0.052514000</td>\n      <td>2810</td>\n    </tr>\n    <tr>\n      <th>HYPER/USDT</th>\n      <td>0.000330000</td>\n      <td>0.000327400</td>\n      <td>0.000327300</td>\n      <td>174678668</td>\n    </tr>\n    <tr>\n      <th>MRHB/USDT</th>\n      <td>0.001851000</td>\n      <td>0.001848000</td>\n      <td>0.001837000</td>\n      <td>19539548</td>\n    </tr>\n    <tr>\n      <th>GRV/USDT</th>\n      <td>0.103000000</td>\n      <td>0.102800000</td>\n      <td>0.102400000</td>\n      <td>6698866</td>\n    </tr>\n    <tr>\n      <th>WIN/USDT</th>\n      <td>0.000068650</td>\n      <td>0.000067210</td>\n      <td>0.000067340</td>\n      <td>7200922</td>\n    </tr>\n  </tbody>\n</table>\n<p>906 rows × 4 columns</p>\n</div>"
     },
     "execution_count": 6,
     "metadata": {},
     "output_type": "execute_result"
    }
   ],
   "source": [
    "ops = Operations(prices)\n",
    "ops.clean_dataframe()\n",
    "ops.cleaned_df"
   ],
   "metadata": {
    "collapsed": false,
    "ExecuteTime": {
     "end_time": "2023-10-24T20:28:57.583082Z",
     "start_time": "2023-10-24T20:28:57.555357700Z"
    }
   }
  },
  {
   "cell_type": "markdown",
   "source": [
    "<h3>7. Calculating the spread</h3>"
   ],
   "metadata": {
    "collapsed": false
   }
  },
  {
   "cell_type": "code",
   "execution_count": 7,
   "outputs": [
    {
     "name": "stdout",
     "output_type": "stream",
     "text": [
      "Calculating bid ask spread...\n",
      "Done calculating bid ask spread...\n"
     ]
    },
    {
     "data": {
      "text/plain": "                                    ask          last           bid  \\\nbitmart SOM/USDT            0.000001490   0.000001500   0.000001170   \n        WMT/USDT            0.163560000   0.151360000   0.136194000   \n        MVEDA/USDT          0.001497000   0.000928000   0.000957000   \n        PIRI/USDT           0.003500000   0.002729000   0.002757000   \n        LEZ/USDT            0.033306000   0.031035000   0.027158000   \n        MRX/USDT            0.000038500   0.000037890   0.000032820   \n        BZEN/USDT           0.000111342   0.000088372   0.000088373   \n        ZPAY/USDT           0.014198000   0.014199000   0.009057000   \n        GGT/USDT            0.252999980   0.210080119   0.200000000   \n        WORLDAI/USDT        0.000000006   0.000000004   0.000000004   \n        REAP/USDT           0.003670000   0.003682000   0.003000000   \n        BITCONEY/USDT       0.007000000   0.007000000   0.006000000   \n        THEREALWORLD/USDT   0.189660000   0.187000000   0.155080000   \n        PG/USDT             0.657700000   0.656700000   0.518500000   \n        DOGEX/USDT          0.000000690   0.000000500   0.000000500   \n        OPOE/USDT           0.008060000   0.005370000   0.005390000   \n        GULF/USDT           0.096580000   0.070100000   0.063080000   \n        HK/USDT             0.003840000   0.003790000   0.003170000   \n        DBX/USDT            0.000149990   0.000140120   0.000051040   \n        MILO/USDT           0.000000007   0.000000006   0.000000006   \n        ARTEQ/USDT          0.000049700   0.000049700   0.000034900   \n        GOAL/USDT           0.015900000   0.016000000   0.007200000   \n        BTCBANK/USDT        0.000800000   0.000700000   0.000600000   \n        GAMEX/USDT          0.000000003   0.000000002   0.000000002   \n        SAFEREUM/USDT       0.000000888   0.000000888   0.000000716   \n        RIDE/USDT           0.013270000   0.012900000   0.011420000   \n        REDUX/USDT          0.293600000   0.293600000   0.205600000   \n        EUM/ETH             0.000298000   0.000288000   0.000255000   \n        RBX/USDT            0.008100000   0.005900000   0.006700000   \n        CNLT/USDT           0.919900000   0.919900000   0.150000000   \n        XLN/USDT            0.000840000   0.000830000   0.000720000   \n        BTK/USDT            0.000117000   0.000096000   0.000096000   \n        VSP/USDT            0.898500000   0.422800000   0.389800000   \n        CARR/USDT           0.000223000   0.000211000   0.000170000   \n        LGC/USDT            0.000812140   0.000812140   0.000501230   \n        XRPAYNET/USDT       0.000317000   0.000273000   0.000264000   \n        $BTH/USDT           0.030997710   0.026802840   0.026803480   \n        ST/USDT             0.200000000   0.200000000   0.170000000   \n        PRMX/USDT           0.000001320   0.000001130   0.000001130   \n        DARTHTRADER/USDT    0.130600000   0.101100000   0.081100000   \n        FEG/USDT            0.000173170   0.000160980   0.000148640   \n        FLOSHIDO/USDT       0.000002230   0.000001810   0.000001810   \n        PKR/USDT            0.000948000   0.000740000   0.000742000   \n        JNS/USDT            0.099999760   0.060000130   0.060000130   \n        CGT/USDT           19.006300000  18.525900000  13.199700000   \n        MOON/USDT           0.007000000   0.006000000   0.005000000   \n        VXL/USDT            0.003602000   0.003602000   0.002869000   \n        PKN/USDT            0.000878620   0.000797740   0.000758810   \n        HZM/USDT            0.001433490   0.001150000   0.001150000   \n        CFX/USDT            0.154719000   0.152559000   0.112066000   \n        GMEX/USDT           0.000153500   0.000137330   0.000125540   \n        METIS/USDT         18.420000000  18.420000000  13.475000000   \n        AKN/USDT            0.009121000   0.009157000   0.007502000   \n        ALU/USDT            0.043999990   0.037198630   0.035905690   \n        GRUMPYCAT/USDT      0.000000010   0.000000010   0.000000007   \n        XBLL/USDT           0.005000000   0.005060000   0.001950000   \n\n                            baseVolume24h  spread  \nbitmart SOM/USDT                 65079393   27.35  \n        WMT/USDT                   862750   20.09  \n        MVEDA/USDT                 660359   56.43  \n        PIRI/USDT                57435088   26.95  \n        LEZ/USDT                     2492   22.64  \n        MRX/USDT                  2059200   17.31  \n        BZEN/USDT                74025086   25.99  \n        ZPAY/USDT                   20638   56.76  \n        GGT/USDT                   260618   26.50  \n        WORLDAI/USDT         150902708756   50.00  \n        REAP/USDT                 5267758   22.33  \n        BITCONEY/USDT               49736   16.67  \n        THEREALWORLD/USDT          560350   22.30  \n        PG/USDT                      4185   26.85  \n        DOGEX/USDT             7417528426   38.00  \n        OPOE/USDT                  438814   49.54  \n        GULF/USDT                     946   53.11  \n        HK/USDT                    490694   21.14  \n        DBX/USDT                  6407392  193.87  \n        MILO/USDT           4681616885146   16.67  \n        ARTEQ/USDT                1062196   42.41  \n        GOAL/USDT                   83969  120.83  \n        BTCBANK/USDT               670260   33.33  \n        GAMEX/USDT         22906620491984   50.00  \n        SAFEREUM/USDT         57315297290   24.02  \n        RIDE/USDT                  383994   16.20  \n        REDUX/USDT                  44457   42.80  \n        EUM/ETH                       105   16.86  \n        RBX/USDT                     3614   20.90  \n        CNLT/USDT                    3292  513.27  \n        XLN/USDT                   863240   16.67  \n        BTK/USDT                197172138   21.87  \n        VSP/USDT                   119022  130.50  \n        CARR/USDT                30177592   31.18  \n        LGC/USDT                  3309082   62.03  \n        XRPAYNET/USDT           113591678   20.08  \n        $BTH/USDT                   88342   15.65  \n        ST/USDT                     15098   17.65  \n        PRMX/USDT                32488974   16.81  \n        DARTHTRADER/USDT          1644348   61.04  \n        FEG/USDT                177260278   16.50  \n        FLOSHIDO/USDT            89678687   23.20  \n        PKR/USDT                 46886312   27.76  \n        JNS/USDT                      625   66.67  \n        CGT/USDT                      780   43.99  \n        MOON/USDT                    3742   40.00  \n        VXL/USDT                    30356   25.55  \n        PKN/USDT                 33596698   15.79  \n        HZM/USDT                   949806   24.65  \n        CFX/USDT                    54742   38.06  \n        GMEX/USDT               415981292   22.27  \n        METIS/USDT                     77   36.70  \n        AKN/USDT                   326545   21.58  \n        ALU/USDT                    36080   22.54  \n        GRUMPYCAT/USDT     10129147384926   42.86  \n        XBLL/USDT                    6258  156.41  ",
      "text/html": "<div>\n<style scoped>\n    .dataframe tbody tr th:only-of-type {\n        vertical-align: middle;\n    }\n\n    .dataframe tbody tr th {\n        vertical-align: top;\n    }\n\n    .dataframe thead th {\n        text-align: right;\n    }\n</style>\n<table border=\"1\" class=\"dataframe\">\n  <thead>\n    <tr style=\"text-align: right;\">\n      <th></th>\n      <th></th>\n      <th>ask</th>\n      <th>last</th>\n      <th>bid</th>\n      <th>baseVolume24h</th>\n      <th>spread</th>\n    </tr>\n  </thead>\n  <tbody>\n    <tr>\n      <th rowspan=\"56\" valign=\"top\">bitmart</th>\n      <th>SOM/USDT</th>\n      <td>0.000001490</td>\n      <td>0.000001500</td>\n      <td>0.000001170</td>\n      <td>65079393</td>\n      <td>27.35</td>\n    </tr>\n    <tr>\n      <th>WMT/USDT</th>\n      <td>0.163560000</td>\n      <td>0.151360000</td>\n      <td>0.136194000</td>\n      <td>862750</td>\n      <td>20.09</td>\n    </tr>\n    <tr>\n      <th>MVEDA/USDT</th>\n      <td>0.001497000</td>\n      <td>0.000928000</td>\n      <td>0.000957000</td>\n      <td>660359</td>\n      <td>56.43</td>\n    </tr>\n    <tr>\n      <th>PIRI/USDT</th>\n      <td>0.003500000</td>\n      <td>0.002729000</td>\n      <td>0.002757000</td>\n      <td>57435088</td>\n      <td>26.95</td>\n    </tr>\n    <tr>\n      <th>LEZ/USDT</th>\n      <td>0.033306000</td>\n      <td>0.031035000</td>\n      <td>0.027158000</td>\n      <td>2492</td>\n      <td>22.64</td>\n    </tr>\n    <tr>\n      <th>MRX/USDT</th>\n      <td>0.000038500</td>\n      <td>0.000037890</td>\n      <td>0.000032820</td>\n      <td>2059200</td>\n      <td>17.31</td>\n    </tr>\n    <tr>\n      <th>BZEN/USDT</th>\n      <td>0.000111342</td>\n      <td>0.000088372</td>\n      <td>0.000088373</td>\n      <td>74025086</td>\n      <td>25.99</td>\n    </tr>\n    <tr>\n      <th>ZPAY/USDT</th>\n      <td>0.014198000</td>\n      <td>0.014199000</td>\n      <td>0.009057000</td>\n      <td>20638</td>\n      <td>56.76</td>\n    </tr>\n    <tr>\n      <th>GGT/USDT</th>\n      <td>0.252999980</td>\n      <td>0.210080119</td>\n      <td>0.200000000</td>\n      <td>260618</td>\n      <td>26.50</td>\n    </tr>\n    <tr>\n      <th>WORLDAI/USDT</th>\n      <td>0.000000006</td>\n      <td>0.000000004</td>\n      <td>0.000000004</td>\n      <td>150902708756</td>\n      <td>50.00</td>\n    </tr>\n    <tr>\n      <th>REAP/USDT</th>\n      <td>0.003670000</td>\n      <td>0.003682000</td>\n      <td>0.003000000</td>\n      <td>5267758</td>\n      <td>22.33</td>\n    </tr>\n    <tr>\n      <th>BITCONEY/USDT</th>\n      <td>0.007000000</td>\n      <td>0.007000000</td>\n      <td>0.006000000</td>\n      <td>49736</td>\n      <td>16.67</td>\n    </tr>\n    <tr>\n      <th>THEREALWORLD/USDT</th>\n      <td>0.189660000</td>\n      <td>0.187000000</td>\n      <td>0.155080000</td>\n      <td>560350</td>\n      <td>22.30</td>\n    </tr>\n    <tr>\n      <th>PG/USDT</th>\n      <td>0.657700000</td>\n      <td>0.656700000</td>\n      <td>0.518500000</td>\n      <td>4185</td>\n      <td>26.85</td>\n    </tr>\n    <tr>\n      <th>DOGEX/USDT</th>\n      <td>0.000000690</td>\n      <td>0.000000500</td>\n      <td>0.000000500</td>\n      <td>7417528426</td>\n      <td>38.00</td>\n    </tr>\n    <tr>\n      <th>OPOE/USDT</th>\n      <td>0.008060000</td>\n      <td>0.005370000</td>\n      <td>0.005390000</td>\n      <td>438814</td>\n      <td>49.54</td>\n    </tr>\n    <tr>\n      <th>GULF/USDT</th>\n      <td>0.096580000</td>\n      <td>0.070100000</td>\n      <td>0.063080000</td>\n      <td>946</td>\n      <td>53.11</td>\n    </tr>\n    <tr>\n      <th>HK/USDT</th>\n      <td>0.003840000</td>\n      <td>0.003790000</td>\n      <td>0.003170000</td>\n      <td>490694</td>\n      <td>21.14</td>\n    </tr>\n    <tr>\n      <th>DBX/USDT</th>\n      <td>0.000149990</td>\n      <td>0.000140120</td>\n      <td>0.000051040</td>\n      <td>6407392</td>\n      <td>193.87</td>\n    </tr>\n    <tr>\n      <th>MILO/USDT</th>\n      <td>0.000000007</td>\n      <td>0.000000006</td>\n      <td>0.000000006</td>\n      <td>4681616885146</td>\n      <td>16.67</td>\n    </tr>\n    <tr>\n      <th>ARTEQ/USDT</th>\n      <td>0.000049700</td>\n      <td>0.000049700</td>\n      <td>0.000034900</td>\n      <td>1062196</td>\n      <td>42.41</td>\n    </tr>\n    <tr>\n      <th>GOAL/USDT</th>\n      <td>0.015900000</td>\n      <td>0.016000000</td>\n      <td>0.007200000</td>\n      <td>83969</td>\n      <td>120.83</td>\n    </tr>\n    <tr>\n      <th>BTCBANK/USDT</th>\n      <td>0.000800000</td>\n      <td>0.000700000</td>\n      <td>0.000600000</td>\n      <td>670260</td>\n      <td>33.33</td>\n    </tr>\n    <tr>\n      <th>GAMEX/USDT</th>\n      <td>0.000000003</td>\n      <td>0.000000002</td>\n      <td>0.000000002</td>\n      <td>22906620491984</td>\n      <td>50.00</td>\n    </tr>\n    <tr>\n      <th>SAFEREUM/USDT</th>\n      <td>0.000000888</td>\n      <td>0.000000888</td>\n      <td>0.000000716</td>\n      <td>57315297290</td>\n      <td>24.02</td>\n    </tr>\n    <tr>\n      <th>RIDE/USDT</th>\n      <td>0.013270000</td>\n      <td>0.012900000</td>\n      <td>0.011420000</td>\n      <td>383994</td>\n      <td>16.20</td>\n    </tr>\n    <tr>\n      <th>REDUX/USDT</th>\n      <td>0.293600000</td>\n      <td>0.293600000</td>\n      <td>0.205600000</td>\n      <td>44457</td>\n      <td>42.80</td>\n    </tr>\n    <tr>\n      <th>EUM/ETH</th>\n      <td>0.000298000</td>\n      <td>0.000288000</td>\n      <td>0.000255000</td>\n      <td>105</td>\n      <td>16.86</td>\n    </tr>\n    <tr>\n      <th>RBX/USDT</th>\n      <td>0.008100000</td>\n      <td>0.005900000</td>\n      <td>0.006700000</td>\n      <td>3614</td>\n      <td>20.90</td>\n    </tr>\n    <tr>\n      <th>CNLT/USDT</th>\n      <td>0.919900000</td>\n      <td>0.919900000</td>\n      <td>0.150000000</td>\n      <td>3292</td>\n      <td>513.27</td>\n    </tr>\n    <tr>\n      <th>XLN/USDT</th>\n      <td>0.000840000</td>\n      <td>0.000830000</td>\n      <td>0.000720000</td>\n      <td>863240</td>\n      <td>16.67</td>\n    </tr>\n    <tr>\n      <th>BTK/USDT</th>\n      <td>0.000117000</td>\n      <td>0.000096000</td>\n      <td>0.000096000</td>\n      <td>197172138</td>\n      <td>21.87</td>\n    </tr>\n    <tr>\n      <th>VSP/USDT</th>\n      <td>0.898500000</td>\n      <td>0.422800000</td>\n      <td>0.389800000</td>\n      <td>119022</td>\n      <td>130.50</td>\n    </tr>\n    <tr>\n      <th>CARR/USDT</th>\n      <td>0.000223000</td>\n      <td>0.000211000</td>\n      <td>0.000170000</td>\n      <td>30177592</td>\n      <td>31.18</td>\n    </tr>\n    <tr>\n      <th>LGC/USDT</th>\n      <td>0.000812140</td>\n      <td>0.000812140</td>\n      <td>0.000501230</td>\n      <td>3309082</td>\n      <td>62.03</td>\n    </tr>\n    <tr>\n      <th>XRPAYNET/USDT</th>\n      <td>0.000317000</td>\n      <td>0.000273000</td>\n      <td>0.000264000</td>\n      <td>113591678</td>\n      <td>20.08</td>\n    </tr>\n    <tr>\n      <th>$BTH/USDT</th>\n      <td>0.030997710</td>\n      <td>0.026802840</td>\n      <td>0.026803480</td>\n      <td>88342</td>\n      <td>15.65</td>\n    </tr>\n    <tr>\n      <th>ST/USDT</th>\n      <td>0.200000000</td>\n      <td>0.200000000</td>\n      <td>0.170000000</td>\n      <td>15098</td>\n      <td>17.65</td>\n    </tr>\n    <tr>\n      <th>PRMX/USDT</th>\n      <td>0.000001320</td>\n      <td>0.000001130</td>\n      <td>0.000001130</td>\n      <td>32488974</td>\n      <td>16.81</td>\n    </tr>\n    <tr>\n      <th>DARTHTRADER/USDT</th>\n      <td>0.130600000</td>\n      <td>0.101100000</td>\n      <td>0.081100000</td>\n      <td>1644348</td>\n      <td>61.04</td>\n    </tr>\n    <tr>\n      <th>FEG/USDT</th>\n      <td>0.000173170</td>\n      <td>0.000160980</td>\n      <td>0.000148640</td>\n      <td>177260278</td>\n      <td>16.50</td>\n    </tr>\n    <tr>\n      <th>FLOSHIDO/USDT</th>\n      <td>0.000002230</td>\n      <td>0.000001810</td>\n      <td>0.000001810</td>\n      <td>89678687</td>\n      <td>23.20</td>\n    </tr>\n    <tr>\n      <th>PKR/USDT</th>\n      <td>0.000948000</td>\n      <td>0.000740000</td>\n      <td>0.000742000</td>\n      <td>46886312</td>\n      <td>27.76</td>\n    </tr>\n    <tr>\n      <th>JNS/USDT</th>\n      <td>0.099999760</td>\n      <td>0.060000130</td>\n      <td>0.060000130</td>\n      <td>625</td>\n      <td>66.67</td>\n    </tr>\n    <tr>\n      <th>CGT/USDT</th>\n      <td>19.006300000</td>\n      <td>18.525900000</td>\n      <td>13.199700000</td>\n      <td>780</td>\n      <td>43.99</td>\n    </tr>\n    <tr>\n      <th>MOON/USDT</th>\n      <td>0.007000000</td>\n      <td>0.006000000</td>\n      <td>0.005000000</td>\n      <td>3742</td>\n      <td>40.00</td>\n    </tr>\n    <tr>\n      <th>VXL/USDT</th>\n      <td>0.003602000</td>\n      <td>0.003602000</td>\n      <td>0.002869000</td>\n      <td>30356</td>\n      <td>25.55</td>\n    </tr>\n    <tr>\n      <th>PKN/USDT</th>\n      <td>0.000878620</td>\n      <td>0.000797740</td>\n      <td>0.000758810</td>\n      <td>33596698</td>\n      <td>15.79</td>\n    </tr>\n    <tr>\n      <th>HZM/USDT</th>\n      <td>0.001433490</td>\n      <td>0.001150000</td>\n      <td>0.001150000</td>\n      <td>949806</td>\n      <td>24.65</td>\n    </tr>\n    <tr>\n      <th>CFX/USDT</th>\n      <td>0.154719000</td>\n      <td>0.152559000</td>\n      <td>0.112066000</td>\n      <td>54742</td>\n      <td>38.06</td>\n    </tr>\n    <tr>\n      <th>GMEX/USDT</th>\n      <td>0.000153500</td>\n      <td>0.000137330</td>\n      <td>0.000125540</td>\n      <td>415981292</td>\n      <td>22.27</td>\n    </tr>\n    <tr>\n      <th>METIS/USDT</th>\n      <td>18.420000000</td>\n      <td>18.420000000</td>\n      <td>13.475000000</td>\n      <td>77</td>\n      <td>36.70</td>\n    </tr>\n    <tr>\n      <th>AKN/USDT</th>\n      <td>0.009121000</td>\n      <td>0.009157000</td>\n      <td>0.007502000</td>\n      <td>326545</td>\n      <td>21.58</td>\n    </tr>\n    <tr>\n      <th>ALU/USDT</th>\n      <td>0.043999990</td>\n      <td>0.037198630</td>\n      <td>0.035905690</td>\n      <td>36080</td>\n      <td>22.54</td>\n    </tr>\n    <tr>\n      <th>GRUMPYCAT/USDT</th>\n      <td>0.000000010</td>\n      <td>0.000000010</td>\n      <td>0.000000007</td>\n      <td>10129147384926</td>\n      <td>42.86</td>\n    </tr>\n    <tr>\n      <th>XBLL/USDT</th>\n      <td>0.005000000</td>\n      <td>0.005060000</td>\n      <td>0.001950000</td>\n      <td>6258</td>\n      <td>156.41</td>\n    </tr>\n  </tbody>\n</table>\n</div>"
     },
     "execution_count": 7,
     "metadata": {},
     "output_type": "execute_result"
    }
   ],
   "source": [
    "ops.get_by_bid_ask_spread(min_pct_spread=15) # % spread\n",
    "ops.spreaded_df"
   ],
   "metadata": {
    "collapsed": false,
    "ExecuteTime": {
     "end_time": "2023-10-24T20:28:57.634562600Z",
     "start_time": "2023-10-24T20:28:57.571147700Z"
    }
   }
  },
  {
   "cell_type": "markdown",
   "source": [
    "<h3>8. Evaluating the volume</h3>\n"
   ],
   "metadata": {
    "collapsed": false
   }
  },
  {
   "cell_type": "code",
   "execution_count": 8,
   "outputs": [
    {
     "data": {
      "text/plain": "                                    ask          last           bid  \\\nbitmart WMT/USDT            0.163560000   0.151360000   0.136194000   \n        PIRI/USDT           0.003500000   0.002729000   0.002757000   \n        BZEN/USDT           0.000111342   0.000088372   0.000088373   \n        GGT/USDT            0.252999980   0.210080119   0.200000000   \n        REAP/USDT           0.003670000   0.003682000   0.003000000   \n        THEREALWORLD/USDT   0.189660000   0.187000000   0.155080000   \n        PG/USDT             0.657700000   0.656700000   0.518500000   \n        DOGEX/USDT          0.000000690   0.000000500   0.000000500   \n        OPOE/USDT           0.008060000   0.005370000   0.005390000   \n        HK/USDT             0.003840000   0.003790000   0.003170000   \n        MILO/USDT           0.000000007   0.000000006   0.000000006   \n        GOAL/USDT           0.015900000   0.016000000   0.007200000   \n        GAMEX/USDT          0.000000003   0.000000002   0.000000002   \n        SAFEREUM/USDT       0.000000888   0.000000888   0.000000716   \n        RIDE/USDT           0.013270000   0.012900000   0.011420000   \n        REDUX/USDT          0.293600000   0.293600000   0.205600000   \n        CNLT/USDT           0.919900000   0.919900000   0.150000000   \n        BTK/USDT            0.000117000   0.000096000   0.000096000   \n        VSP/USDT            0.898500000   0.422800000   0.389800000   \n        CARR/USDT           0.000223000   0.000211000   0.000170000   \n        LGC/USDT            0.000812140   0.000812140   0.000501230   \n        XRPAYNET/USDT       0.000317000   0.000273000   0.000264000   \n        $BTH/USDT           0.030997710   0.026802840   0.026803480   \n        ST/USDT             0.200000000   0.200000000   0.170000000   \n        DARTHTRADER/USDT    0.130600000   0.101100000   0.081100000   \n        FEG/USDT            0.000173170   0.000160980   0.000148640   \n        PKR/USDT            0.000948000   0.000740000   0.000742000   \n        CGT/USDT           19.006300000  18.525900000  13.199700000   \n        PKN/USDT            0.000878620   0.000797740   0.000758810   \n        HZM/USDT            0.001433490   0.001150000   0.001150000   \n        CFX/USDT            0.154719000   0.152559000   0.112066000   \n        GMEX/USDT           0.000153500   0.000137330   0.000125540   \n        METIS/USDT         18.420000000  18.420000000  13.475000000   \n        AKN/USDT            0.009121000   0.009157000   0.007502000   \n        ALU/USDT            0.043999990   0.037198630   0.035905690   \n        GRUMPYCAT/USDT      0.000000010   0.000000010   0.000000007   \n\n                            baseVolume24h  spread  usd_volume24h  \nbitmart WMT/USDT                   862750   20.09      130585.84  \n        PIRI/USDT                57435088   26.95      156740.36  \n        BZEN/USDT                74025086   25.99        6541.74  \n        GGT/USDT                   260618   26.50       54750.66  \n        REAP/USDT                 5267758   22.33       19395.88  \n        THEREALWORLD/USDT          560350   22.30      104785.45  \n        PG/USDT                      4185   26.85        2748.29  \n        DOGEX/USDT             7417528426   38.00        3708.76  \n        OPOE/USDT                  438814   49.54        2356.43  \n        HK/USDT                    490694   21.14        1859.73  \n        MILO/USDT           4681616885146   16.67       28089.70  \n        GOAL/USDT                   83969  120.83        1343.50  \n        GAMEX/USDT         22906620491984   50.00       45813.24  \n        SAFEREUM/USDT         57315297290   24.02       50895.98  \n        RIDE/USDT                  383994   16.20        4953.52  \n        REDUX/USDT                  44457   42.80       13052.58  \n        CNLT/USDT                    3292  513.27        3028.31  \n        BTK/USDT                197172138   21.87       18928.53  \n        VSP/USDT                   119022  130.50       50322.50  \n        CARR/USDT                30177592   31.18        6367.47  \n        LGC/USDT                  3309082   62.03        2687.44  \n        XRPAYNET/USDT           113591678   20.08       31010.53  \n        $BTH/USDT                   88342   15.65        2367.82  \n        ST/USDT                     15098   17.65        3019.60  \n        DARTHTRADER/USDT          1644348   61.04      166243.58  \n        FEG/USDT                177260278   16.50       28535.36  \n        PKR/USDT                 46886312   27.76       34695.87  \n        CGT/USDT                      780   43.99       14450.20  \n        PKN/USDT                 33596698   15.79       26801.43  \n        HZM/USDT                   949806   24.65        1092.28  \n        CFX/USDT                    54742   38.06        8351.38  \n        GMEX/USDT               415981292   22.27       57126.71  \n        METIS/USDT                     77   36.70        1418.34  \n        AKN/USDT                   326545   21.58        2990.17  \n        ALU/USDT                    36080   22.54        1342.13  \n        GRUMPYCAT/USDT     10129147384926   42.86      101291.47  ",
      "text/html": "<div>\n<style scoped>\n    .dataframe tbody tr th:only-of-type {\n        vertical-align: middle;\n    }\n\n    .dataframe tbody tr th {\n        vertical-align: top;\n    }\n\n    .dataframe thead th {\n        text-align: right;\n    }\n</style>\n<table border=\"1\" class=\"dataframe\">\n  <thead>\n    <tr style=\"text-align: right;\">\n      <th></th>\n      <th></th>\n      <th>ask</th>\n      <th>last</th>\n      <th>bid</th>\n      <th>baseVolume24h</th>\n      <th>spread</th>\n      <th>usd_volume24h</th>\n    </tr>\n  </thead>\n  <tbody>\n    <tr>\n      <th rowspan=\"36\" valign=\"top\">bitmart</th>\n      <th>WMT/USDT</th>\n      <td>0.163560000</td>\n      <td>0.151360000</td>\n      <td>0.136194000</td>\n      <td>862750</td>\n      <td>20.09</td>\n      <td>130585.84</td>\n    </tr>\n    <tr>\n      <th>PIRI/USDT</th>\n      <td>0.003500000</td>\n      <td>0.002729000</td>\n      <td>0.002757000</td>\n      <td>57435088</td>\n      <td>26.95</td>\n      <td>156740.36</td>\n    </tr>\n    <tr>\n      <th>BZEN/USDT</th>\n      <td>0.000111342</td>\n      <td>0.000088372</td>\n      <td>0.000088373</td>\n      <td>74025086</td>\n      <td>25.99</td>\n      <td>6541.74</td>\n    </tr>\n    <tr>\n      <th>GGT/USDT</th>\n      <td>0.252999980</td>\n      <td>0.210080119</td>\n      <td>0.200000000</td>\n      <td>260618</td>\n      <td>26.50</td>\n      <td>54750.66</td>\n    </tr>\n    <tr>\n      <th>REAP/USDT</th>\n      <td>0.003670000</td>\n      <td>0.003682000</td>\n      <td>0.003000000</td>\n      <td>5267758</td>\n      <td>22.33</td>\n      <td>19395.88</td>\n    </tr>\n    <tr>\n      <th>THEREALWORLD/USDT</th>\n      <td>0.189660000</td>\n      <td>0.187000000</td>\n      <td>0.155080000</td>\n      <td>560350</td>\n      <td>22.30</td>\n      <td>104785.45</td>\n    </tr>\n    <tr>\n      <th>PG/USDT</th>\n      <td>0.657700000</td>\n      <td>0.656700000</td>\n      <td>0.518500000</td>\n      <td>4185</td>\n      <td>26.85</td>\n      <td>2748.29</td>\n    </tr>\n    <tr>\n      <th>DOGEX/USDT</th>\n      <td>0.000000690</td>\n      <td>0.000000500</td>\n      <td>0.000000500</td>\n      <td>7417528426</td>\n      <td>38.00</td>\n      <td>3708.76</td>\n    </tr>\n    <tr>\n      <th>OPOE/USDT</th>\n      <td>0.008060000</td>\n      <td>0.005370000</td>\n      <td>0.005390000</td>\n      <td>438814</td>\n      <td>49.54</td>\n      <td>2356.43</td>\n    </tr>\n    <tr>\n      <th>HK/USDT</th>\n      <td>0.003840000</td>\n      <td>0.003790000</td>\n      <td>0.003170000</td>\n      <td>490694</td>\n      <td>21.14</td>\n      <td>1859.73</td>\n    </tr>\n    <tr>\n      <th>MILO/USDT</th>\n      <td>0.000000007</td>\n      <td>0.000000006</td>\n      <td>0.000000006</td>\n      <td>4681616885146</td>\n      <td>16.67</td>\n      <td>28089.70</td>\n    </tr>\n    <tr>\n      <th>GOAL/USDT</th>\n      <td>0.015900000</td>\n      <td>0.016000000</td>\n      <td>0.007200000</td>\n      <td>83969</td>\n      <td>120.83</td>\n      <td>1343.50</td>\n    </tr>\n    <tr>\n      <th>GAMEX/USDT</th>\n      <td>0.000000003</td>\n      <td>0.000000002</td>\n      <td>0.000000002</td>\n      <td>22906620491984</td>\n      <td>50.00</td>\n      <td>45813.24</td>\n    </tr>\n    <tr>\n      <th>SAFEREUM/USDT</th>\n      <td>0.000000888</td>\n      <td>0.000000888</td>\n      <td>0.000000716</td>\n      <td>57315297290</td>\n      <td>24.02</td>\n      <td>50895.98</td>\n    </tr>\n    <tr>\n      <th>RIDE/USDT</th>\n      <td>0.013270000</td>\n      <td>0.012900000</td>\n      <td>0.011420000</td>\n      <td>383994</td>\n      <td>16.20</td>\n      <td>4953.52</td>\n    </tr>\n    <tr>\n      <th>REDUX/USDT</th>\n      <td>0.293600000</td>\n      <td>0.293600000</td>\n      <td>0.205600000</td>\n      <td>44457</td>\n      <td>42.80</td>\n      <td>13052.58</td>\n    </tr>\n    <tr>\n      <th>CNLT/USDT</th>\n      <td>0.919900000</td>\n      <td>0.919900000</td>\n      <td>0.150000000</td>\n      <td>3292</td>\n      <td>513.27</td>\n      <td>3028.31</td>\n    </tr>\n    <tr>\n      <th>BTK/USDT</th>\n      <td>0.000117000</td>\n      <td>0.000096000</td>\n      <td>0.000096000</td>\n      <td>197172138</td>\n      <td>21.87</td>\n      <td>18928.53</td>\n    </tr>\n    <tr>\n      <th>VSP/USDT</th>\n      <td>0.898500000</td>\n      <td>0.422800000</td>\n      <td>0.389800000</td>\n      <td>119022</td>\n      <td>130.50</td>\n      <td>50322.50</td>\n    </tr>\n    <tr>\n      <th>CARR/USDT</th>\n      <td>0.000223000</td>\n      <td>0.000211000</td>\n      <td>0.000170000</td>\n      <td>30177592</td>\n      <td>31.18</td>\n      <td>6367.47</td>\n    </tr>\n    <tr>\n      <th>LGC/USDT</th>\n      <td>0.000812140</td>\n      <td>0.000812140</td>\n      <td>0.000501230</td>\n      <td>3309082</td>\n      <td>62.03</td>\n      <td>2687.44</td>\n    </tr>\n    <tr>\n      <th>XRPAYNET/USDT</th>\n      <td>0.000317000</td>\n      <td>0.000273000</td>\n      <td>0.000264000</td>\n      <td>113591678</td>\n      <td>20.08</td>\n      <td>31010.53</td>\n    </tr>\n    <tr>\n      <th>$BTH/USDT</th>\n      <td>0.030997710</td>\n      <td>0.026802840</td>\n      <td>0.026803480</td>\n      <td>88342</td>\n      <td>15.65</td>\n      <td>2367.82</td>\n    </tr>\n    <tr>\n      <th>ST/USDT</th>\n      <td>0.200000000</td>\n      <td>0.200000000</td>\n      <td>0.170000000</td>\n      <td>15098</td>\n      <td>17.65</td>\n      <td>3019.60</td>\n    </tr>\n    <tr>\n      <th>DARTHTRADER/USDT</th>\n      <td>0.130600000</td>\n      <td>0.101100000</td>\n      <td>0.081100000</td>\n      <td>1644348</td>\n      <td>61.04</td>\n      <td>166243.58</td>\n    </tr>\n    <tr>\n      <th>FEG/USDT</th>\n      <td>0.000173170</td>\n      <td>0.000160980</td>\n      <td>0.000148640</td>\n      <td>177260278</td>\n      <td>16.50</td>\n      <td>28535.36</td>\n    </tr>\n    <tr>\n      <th>PKR/USDT</th>\n      <td>0.000948000</td>\n      <td>0.000740000</td>\n      <td>0.000742000</td>\n      <td>46886312</td>\n      <td>27.76</td>\n      <td>34695.87</td>\n    </tr>\n    <tr>\n      <th>CGT/USDT</th>\n      <td>19.006300000</td>\n      <td>18.525900000</td>\n      <td>13.199700000</td>\n      <td>780</td>\n      <td>43.99</td>\n      <td>14450.20</td>\n    </tr>\n    <tr>\n      <th>PKN/USDT</th>\n      <td>0.000878620</td>\n      <td>0.000797740</td>\n      <td>0.000758810</td>\n      <td>33596698</td>\n      <td>15.79</td>\n      <td>26801.43</td>\n    </tr>\n    <tr>\n      <th>HZM/USDT</th>\n      <td>0.001433490</td>\n      <td>0.001150000</td>\n      <td>0.001150000</td>\n      <td>949806</td>\n      <td>24.65</td>\n      <td>1092.28</td>\n    </tr>\n    <tr>\n      <th>CFX/USDT</th>\n      <td>0.154719000</td>\n      <td>0.152559000</td>\n      <td>0.112066000</td>\n      <td>54742</td>\n      <td>38.06</td>\n      <td>8351.38</td>\n    </tr>\n    <tr>\n      <th>GMEX/USDT</th>\n      <td>0.000153500</td>\n      <td>0.000137330</td>\n      <td>0.000125540</td>\n      <td>415981292</td>\n      <td>22.27</td>\n      <td>57126.71</td>\n    </tr>\n    <tr>\n      <th>METIS/USDT</th>\n      <td>18.420000000</td>\n      <td>18.420000000</td>\n      <td>13.475000000</td>\n      <td>77</td>\n      <td>36.70</td>\n      <td>1418.34</td>\n    </tr>\n    <tr>\n      <th>AKN/USDT</th>\n      <td>0.009121000</td>\n      <td>0.009157000</td>\n      <td>0.007502000</td>\n      <td>326545</td>\n      <td>21.58</td>\n      <td>2990.17</td>\n    </tr>\n    <tr>\n      <th>ALU/USDT</th>\n      <td>0.043999990</td>\n      <td>0.037198630</td>\n      <td>0.035905690</td>\n      <td>36080</td>\n      <td>22.54</td>\n      <td>1342.13</td>\n    </tr>\n    <tr>\n      <th>GRUMPYCAT/USDT</th>\n      <td>0.000000010</td>\n      <td>0.000000010</td>\n      <td>0.000000007</td>\n      <td>10129147384926</td>\n      <td>42.86</td>\n      <td>101291.47</td>\n    </tr>\n  </tbody>\n</table>\n</div>"
     },
     "execution_count": 8,
     "metadata": {},
     "output_type": "execute_result"
    }
   ],
   "source": [
    "ops.get_usd_volume(usd_24h=1000)\n",
    "ops.usd_volume_df"
   ],
   "metadata": {
    "collapsed": false,
    "ExecuteTime": {
     "end_time": "2023-10-24T20:28:57.705885100Z",
     "start_time": "2023-10-24T20:28:57.600307Z"
    }
   }
  },
  {
   "cell_type": "code",
   "execution_count": 8,
   "outputs": [],
   "source": [],
   "metadata": {
    "collapsed": false,
    "ExecuteTime": {
     "end_time": "2023-10-24T20:28:57.705885100Z",
     "start_time": "2023-10-24T20:28:57.634562600Z"
    }
   }
  }
 ],
 "metadata": {
  "kernelspec": {
   "display_name": "Python 3",
   "language": "python",
   "name": "python3"
  },
  "language_info": {
   "codemirror_mode": {
    "name": "ipython",
    "version": 3
   },
   "file_extension": ".py",
   "mimetype": "text/x-python",
   "name": "python",
   "nbconvert_exporter": "python",
   "pygments_lexer": "ipython3",
   "version": "3.8.10"
  },
  "orig_nbformat": 4
 },
 "nbformat": 4,
 "nbformat_minor": 2
}
