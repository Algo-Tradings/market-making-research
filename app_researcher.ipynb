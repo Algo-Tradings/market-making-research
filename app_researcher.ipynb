{
 "cells": [
  {
   "attachments": {},
   "cell_type": "markdown",
   "metadata": {},
   "source": [
    "<h1>MARKET MAKING RESEARCH</h1>"
   ]
  },
  {
   "attachments": {},
   "cell_type": "markdown",
   "metadata": {},
   "source": [
    "<h3>1. Run Once </h3> \n",
    "install necessary packages.\n",
    "After that, you need comment the above part of code"
   ]
  },
  {
   "cell_type": "code",
   "execution_count": 1,
   "metadata": {
    "ExecuteTime": {
     "end_time": "2023-10-24T21:26:21.628568200Z",
     "start_time": "2023-10-24T21:26:21.595971Z"
    }
   },
   "outputs": [],
   "source": [
    "# import sys\n",
    "# !{sys.executable} -m pip install -r ./ requirements.txt"
   ]
  },
  {
   "attachments": {},
   "cell_type": "markdown",
   "metadata": {},
   "source": [
    "<h3>2. Imports </h3>\n",
    "get classes of this system"
   ]
  },
  {
   "cell_type": "code",
   "execution_count": 2,
   "metadata": {
    "ExecuteTime": {
     "end_time": "2023-10-24T21:26:22.465626300Z",
     "start_time": "2023-10-24T21:26:21.615191100Z"
    }
   },
   "outputs": [],
   "source": [
    "from research.async_connection import AsyncConnection\n",
    "from research.async_prices import AsyncPrices\n",
    "from research.ops import Operations"
   ]
  },
  {
   "cell_type": "markdown",
   "source": [
    "<h3>3. Exchanges list</h3>\n",
    "Show all available exchanges."
   ],
   "metadata": {
    "collapsed": false
   }
  },
  {
   "cell_type": "code",
   "execution_count": 3,
   "outputs": [
    {
     "data": {
      "text/plain": "     Exchange\n0         ACE\n1      Alpaca\n2    AscendEX\n3     Bequant\n4      BigONE\n..        ...\n101  WhiteBit\n102     WOO X\n103     YoBit\n104      Zaif\n105     Zonda\n\n[106 rows x 1 columns]",
      "text/html": "<div>\n<style scoped>\n    .dataframe tbody tr th:only-of-type {\n        vertical-align: middle;\n    }\n\n    .dataframe tbody tr th {\n        vertical-align: top;\n    }\n\n    .dataframe thead th {\n        text-align: right;\n    }\n</style>\n<table border=\"1\" class=\"dataframe\">\n  <thead>\n    <tr style=\"text-align: right;\">\n      <th></th>\n      <th>Exchange</th>\n    </tr>\n  </thead>\n  <tbody>\n    <tr>\n      <th>0</th>\n      <td>ACE</td>\n    </tr>\n    <tr>\n      <th>1</th>\n      <td>Alpaca</td>\n    </tr>\n    <tr>\n      <th>2</th>\n      <td>AscendEX</td>\n    </tr>\n    <tr>\n      <th>3</th>\n      <td>Bequant</td>\n    </tr>\n    <tr>\n      <th>4</th>\n      <td>BigONE</td>\n    </tr>\n    <tr>\n      <th>...</th>\n      <td>...</td>\n    </tr>\n    <tr>\n      <th>101</th>\n      <td>WhiteBit</td>\n    </tr>\n    <tr>\n      <th>102</th>\n      <td>WOO X</td>\n    </tr>\n    <tr>\n      <th>103</th>\n      <td>YoBit</td>\n    </tr>\n    <tr>\n      <th>104</th>\n      <td>Zaif</td>\n    </tr>\n    <tr>\n      <th>105</th>\n      <td>Zonda</td>\n    </tr>\n  </tbody>\n</table>\n<p>106 rows × 1 columns</p>\n</div>"
     },
     "execution_count": 3,
     "metadata": {},
     "output_type": "execute_result"
    }
   ],
   "source": [
    "conn = AsyncConnection()\n",
    "# conn.add_exchanges(type=['spot', 'swap', 'futures ], blacklist=['alpaca','zairf'], whitelist=['binance', 'mexc'])\n",
    "\n",
    "# Search for all exchanges in spot mode\n",
    "conn.add_exchanges(type=['spot'])\n",
    "\n",
    "conn.dataframe"
   ],
   "metadata": {
    "collapsed": false,
    "ExecuteTime": {
     "end_time": "2023-10-24T21:26:22.742687700Z",
     "start_time": "2023-10-24T21:26:22.466626700Z"
    }
   }
  },
  {
   "attachments": {},
   "cell_type": "markdown",
   "metadata": {},
   "source": [
    "<h3>4. Loading Markets </h3>\n",
    "Loads the markets for all exchanges"
   ]
  },
  {
   "cell_type": "code",
   "execution_count": 4,
   "outputs": [
    {
     "name": "stdout",
     "output_type": "stream",
     "text": [
      "Loading all markets...\n",
      "Done loading markets for Alpaca\n",
      "Done loading markets for Bit2C\n",
      "Done loading markets for ACE\n",
      "Done loading markets for Binance US\n",
      "Done loading markets for Bequant\n",
      "Done loading markets for Binance COIN-M\n",
      "Done loading markets for Binance USDⓈ-M\n",
      "Done loading markets for Binance\n",
      "Done loading markets for bitbank\n",
      "Done loading markets for BigONE\n",
      "Done loading markets for BitBay\n",
      "Done loading markets for BingX\n",
      "Done loading markets for Bitbns\n",
      "Done loading markets for Bitcoin.com\n",
      "Done loading markets for AscendEX\n",
      "Done loading markets for Bitforex\n",
      "Done loading markets for Bitpanda Pro\n",
      "Done loading markets for BitoPro\n",
      "Done loading markets for Bitget\n",
      "Done loading markets for Bithumb\n",
      "Done loading markets for Bitfinex\n",
      "Done loading markets for Bitstamp\n",
      "Done loading markets for Bitso\n",
      "Done loading markets for BitMEX\n",
      "Done loading markets for BL3P\n",
      "Done loading markets for bitFlyer\n",
      "Done loading markets for BtcBox\n",
      "Failed to load markets for BKEX\n",
      "Done loading markets for BTC Trade UA\n",
      "Done loading markets for Bitstamp\n",
      "Failed to load markets for BTC Markets\n",
      "Done loading markets for Blockchain.com\n",
      "Done loading markets for BTC-Alpha\n",
      "Done loading markets for BitMart\n",
      "Done loading markets for Bitvavo\n",
      "Done loading markets for coincheck\n",
      "Done loading markets for BTCTurk\n",
      "Done loading markets for Coinbase Pro\n",
      "Failed to load markets for Coinbase\n",
      "Done loading markets for CoinFalcon\n",
      "Done loading markets for Bittrex\n",
      "Done loading markets for Bitrue\n",
      "Done loading markets for Coinbase Prime\n",
      "Done loading markets for Bybit\n",
      "Done loading markets for CoinSpot\n",
      "Done loading markets for CoinEx\n",
      "Done loading markets for CoinMate\n",
      "Done loading markets for Coins.ph\n",
      "Done loading markets for CEX.IO\n",
      "Done loading markets for CoinOne\n",
      "Done loading markets for Crypto.com\n",
      "Done loading markets for Bitfinex\n",
      "Done loading markets for EXMO\n",
      "Done loading markets for FMFW.io\n",
      "Done loading markets for Currency.com\n",
      "Done loading markets for Gemini\n",
      "Done loading markets for Deribit\n",
      "Done loading markets for HitBTC\n",
      "Done loading markets for DigiFinex\n",
      "Done loading markets for Delta Exchange\n",
      "Done loading markets for Huobi Japan\n",
      "Done loading markets for HollaEx\n",
      "Done loading markets for HitBTC\n",
      "Done loading markets for Kraken Futures\n",
      "Done loading markets for Gate.io\n",
      "Done loading markets for Gate.io\n",
      "Done loading markets for Huobi\n",
      "Done loading markets for INDODAX\n",
      "Failed to load markets for Kuna\n",
      "Done loading markets for Huobi Pro\n",
      "Done loading markets for KuCoin\n",
      "Done loading markets for Kraken\n",
      "Done loading markets for LBank\n",
      "Done loading markets for IDEX\n",
      "Done loading markets for KuCoin Futures\n",
      "Done loading markets for LBank\n",
      "Done loading markets for Independent Reserve\n",
      "Done loading markets for Mercado Bitcoin\n",
      "Done loading markets for NovaDAX\n",
      "Failed to load markets for OKCoin\n",
      "Done loading markets for luno\n",
      "Done loading markets for Paymium\n",
      "Done loading markets for OceanEx\n",
      "Done loading markets for OKX\n",
      "Done loading markets for Lykke\n",
      "Done loading markets for MEXC Global\n",
      "Done loading markets for NDAX\n",
      "Done loading markets for MEXC Global\n",
      "Done loading markets for Latoken\n",
      "Done loading markets for Poloniex Futures\n",
      "Done loading markets for Poloniex\n",
      "Done loading markets for Phemex\n",
      "Failed to load markets for Tidex\n",
      "Done loading markets for ProBit\n",
      "Done loading markets for OKX\n",
      "Done loading markets for Waves.Exchange\n",
      "Done loading markets for Upbit\n",
      "Done loading markets for YoBit\n",
      "Done loading markets for WazirX\n",
      "Done loading markets for WOO X\n",
      "Done loading markets for Zonda\n",
      "Done loading markets for Tokocrypto\n",
      "Done loading markets for TimeX\n",
      "Done loading markets for WhiteBit\n",
      "Failed to load markets for Zaif\n",
      "Done loading markets for OKX\n",
      "Done loading all markets...\n"
     ]
    }
   ],
   "source": [
    "conn.load_markets()\n"
   ],
   "metadata": {
    "collapsed": false,
    "ExecuteTime": {
     "end_time": "2023-10-24T21:26:59.668006900Z",
     "start_time": "2023-10-24T21:26:22.745527400Z"
    }
   }
  },
  {
   "attachments": {},
   "cell_type": "markdown",
   "metadata": {},
   "source": [
    "<h3>5. Loading Bid and Ask Prices</h3>\n",
    "From All Select Currencies"
   ]
  },
  {
   "cell_type": "code",
   "execution_count": null,
   "outputs": [
    {
     "name": "stdout",
     "output_type": "stream",
     "text": [
      "Loading prices from all currencies...\n",
      "Alpaca does not support fetching tickers or ticker.\n",
      "Done loading prices from Bit2C...\n",
      "Done loading prices from bitbank...\n",
      "Done loading prices from bitFlyer...\n",
      "Done loading prices from Bitforex...\n",
      "Done loading prices from Bitso...\n",
      "Done loading prices from Bitstamp...\n",
      "Done loading prices from BL3P...\n",
      "Done loading prices from BitMart...\n",
      "Done loading prices from Bitstamp...\n",
      "Done loading prices from BtcBox...\n",
      "Done loading prices from BTC Trade UA...\n",
      "Done loading prices from coincheck...\n",
      "Done loading prices from BTCTurk...\n",
      "Done loading prices from CoinMate...\n",
      "Done loading prices from Bybit...\n",
      "Done loading prices from CoinEx...\n",
      "Done loading prices from EXMO...\n",
      "Done loading prices from Independent Reserve...\n",
      "Done loading prices from INDODAX...\n",
      "Done loading prices from KuCoin Futures...\n",
      "Done loading prices from KuCoin...\n",
      "Done loading prices from Currency.com...\n",
      "Done loading prices from Mercado Bitcoin...\n",
      "Done loading prices from NDAX...\n",
      "Done loading prices from Huobi Japan...\n",
      "Done loading prices from NovaDAX...\n",
      "Done loading prices from Paymium...\n",
      "Done loading prices from OKX...\n",
      "Tokocrypto does not support fetching tickers or ticker.\n",
      "Done loading prices from OKX...\n",
      "WOO X does not support fetching tickers or ticker.\n",
      "Done loading prices from Poloniex Futures...\n",
      "Done loading prices from OKX...\n",
      "Done loading prices from WazirX...\n",
      "Done loading prices from Bitfinex...\n"
     ]
    }
   ],
   "source": [
    "prices = AsyncPrices(conn)\n",
    "prices.load_bid_ask_volume()\n",
    "prices.dataframe"
   ],
   "metadata": {
    "collapsed": false,
    "is_executing": true,
    "ExecuteTime": {
     "start_time": "2023-10-24T21:26:59.669499200Z"
    }
   }
  },
  {
   "attachments": {},
   "cell_type": "markdown",
   "metadata": {},
   "source": [
    "<h3>6. Cleaning the dataframe</h3>\n"
   ]
  },
  {
   "cell_type": "code",
   "execution_count": null,
   "outputs": [],
   "source": [
    "ops = Operations(prices)\n",
    "ops.clean_dataframe()\n",
    "ops.cleaned_df"
   ],
   "metadata": {
    "collapsed": false,
    "is_executing": true
   }
  },
  {
   "cell_type": "markdown",
   "source": [
    "<h3>7. Calculating the spread</h3>"
   ],
   "metadata": {
    "collapsed": false
   }
  },
  {
   "cell_type": "code",
   "execution_count": null,
   "outputs": [],
   "source": [
    "ops.get_by_bid_ask_spread(min_pct_spread=15) # % spread\n",
    "ops.spreaded_df"
   ],
   "metadata": {
    "collapsed": false,
    "is_executing": true
   }
  },
  {
   "cell_type": "markdown",
   "source": [
    "<h3>8. Calculating the volume</h3>\n"
   ],
   "metadata": {
    "collapsed": false
   }
  },
  {
   "cell_type": "code",
   "execution_count": null,
   "outputs": [],
   "source": [
    "ops.get_usd_volume(usd_24h=1000)\n",
    "ops.usd_volume_df"
   ],
   "metadata": {
    "collapsed": false,
    "is_executing": true
   }
  }
 ],
 "metadata": {
  "kernelspec": {
   "display_name": "Python 3",
   "language": "python",
   "name": "python3"
  },
  "language_info": {
   "codemirror_mode": {
    "name": "ipython",
    "version": 3
   },
   "file_extension": ".py",
   "mimetype": "text/x-python",
   "name": "python",
   "nbconvert_exporter": "python",
   "pygments_lexer": "ipython3",
   "version": "3.8.10"
  },
  "orig_nbformat": 4
 },
 "nbformat": 4,
 "nbformat_minor": 2
}
